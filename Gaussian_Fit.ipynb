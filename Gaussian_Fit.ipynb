{
 "cells": [
  {
   "cell_type": "code",
   "execution_count": null,
   "metadata": {},
   "outputs": [],
   "source": [
    "import numpy as np\n",
    "import pandas as pd\n",
    "import matplotlib.pyplot as plt\n",
    "from scipy.optimize import curve_fit\n",
    "from scipy.stats import norm\n",
    "\n",
    "file_path = r\"C:\\Users\\erwan\\OneDrive\\Documents\\GrutterLab\\Data\\All_Samples\\Wyatt_1\\test.csv\"\n",
    "data = pd.read_csv(file_path, delimiter=';')\n",
    "\n",
    "# remove empty columns\n",
    "data = data.dropna(axis=1)\n",
    "\n",
    "# declare axes\n",
    "x = data['z']\n",
    "y = data['ρ']"
   ]
  },
  {
   "cell_type": "code",
   "execution_count": null,
   "metadata": {},
   "outputs": [],
   "source": [
    "# print\n",
    "print(data.to_string(index=False))"
   ]
  },
  {
   "cell_type": "code",
   "execution_count": null,
   "metadata": {},
   "outputs": [],
   "source": []
  },
  {
   "cell_type": "code",
   "execution_count": null,
   "metadata": {},
   "outputs": [],
   "source": [
    "# plot\n",
    "plt.plot(x, y, 'b.')\n",
    "plt.xlabel('')\n",
    "plt.ylabel('')\n",
    "plt.title('Data Plot')\n",
    "plt.show()"
   ]
  },
  {
   "cell_type": "code",
   "execution_count": null,
   "metadata": {},
   "outputs": [],
   "source": [
    "#get colmn names\n",
    "column_names = data.columns.tolist()\n",
    "print(column_names)"
   ]
  },
  {
   "cell_type": "code",
   "execution_count": null,
   "metadata": {},
   "outputs": [],
   "source": [
    "# Normal fitting\n",
    "mu, std = norm.fit(y)\n",
    "\n",
    "# Generate the fitted curve\n",
    "x_fit = np.linspace(x.min(), x.max(), 100)\n",
    "y_fit = norm.pdf(x_fit, mu, std)\n",
    "\n",
    "# Plot the data and fitted curve\n",
    "plt.plot(x, y, 'bo', label='Data')\n",
    "plt.plot(x_fit, y_fit, 'r-', label='Gaussian Fit')\n",
    "plt.xlabel('x')\n",
    "plt.ylabel('y')\n",
    "plt.legend()\n",
    "plt.show()"
   ]
  }
 ],
 "metadata": {
  "kernelspec": {
   "display_name": "base",
   "language": "python",
   "name": "python3"
  },
  "language_info": {
   "codemirror_mode": {
    "name": "ipython",
    "version": 3
   },
   "file_extension": ".py",
   "mimetype": "text/x-python",
   "name": "python",
   "nbconvert_exporter": "python",
   "pygments_lexer": "ipython3",
   "version": "3.9.13"
  },
  "orig_nbformat": 4
 },
 "nbformat": 4,
 "nbformat_minor": 2
}

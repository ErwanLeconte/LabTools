{
 "cells": [
  {
   "cell_type": "code",
   "execution_count": 2,
   "metadata": {},
   "outputs": [],
   "source": [
    "import numpy as np\n",
    "import pandas as pd\n",
    "import matplotlib.pyplot as plt\n",
    "from scipy.optimize import curve_fit\n",
    "from scipy.stats import norm\n",
    "\n",
    "file_path = r\"C:\\Users\\erwan\\OneDrive\\Documents\\GrutterLab\\Data\\All_Samples\\Wyatt_1\\test.csv\"\n",
    "data = pd.read_csv(file_path, delimiter=';')\n",
    "\n",
    "# remove empty columns\n",
    "data = data.dropna(axis=1)\n",
    "\n",
    "# declare axes\n",
    "x = data['z']\n",
    "y = data['ρ']"
   ]
  },
  {
   "cell_type": "code",
   "execution_count": 3,
   "metadata": {},
   "outputs": [
    {
     "name": "stdout",
     "output_type": "stream",
     "text": [
      "           z           ρ\n",
      "1.331901e-08   5127220.0\n",
      "1.339363e-08   5127220.0\n",
      "1.346825e-08   6152664.0\n",
      "1.354288e-08   5127220.0\n",
      "1.361750e-08   9228996.0\n",
      "1.369213e-08  23585212.0\n",
      "1.376675e-08  22559768.0\n",
      "1.384137e-08  27686988.0\n",
      "1.391600e-08  28712432.0\n",
      "1.399062e-08  42043204.0\n",
      "1.406525e-08  52297644.0\n",
      "1.413987e-08  70755636.0\n",
      "1.421449e-08  98442624.0\n",
      "1.428912e-08 115875170.0\n",
      "1.436374e-08 140485830.0\n",
      "1.443837e-08 160994710.0\n",
      "1.451299e-08 220470460.0\n",
      "1.458761e-08 244055670.0\n",
      "1.466224e-08 266615440.0\n",
      "1.473686e-08 306607760.0\n",
      "1.481149e-08 325065750.0\n",
      "1.488611e-08 355829070.0\n",
      "1.496073e-08 357879960.0\n",
      "1.503536e-08 380439720.0\n",
      "1.510998e-08 409152160.0\n",
      "1.518461e-08 449144470.0\n",
      "1.525923e-08 534256330.0\n",
      "1.533386e-08 538358100.0\n",
      "1.540848e-08 536307210.0\n",
      "1.548310e-08 556816090.0\n",
      "1.555773e-08 538358100.0\n",
      "1.563235e-08 533230880.0\n",
      "1.570698e-08 539383550.0\n",
      "1.578160e-08 502467560.0\n",
      "1.585622e-08 571172310.0\n",
      "1.593085e-08 470678800.0\n",
      "1.600547e-08 477856910.0\n",
      "1.608010e-08 449144470.0\n",
      "1.615472e-08 444017250.0\n",
      "1.622934e-08 359930840.0\n",
      "1.630397e-08 294302430.0\n",
      "1.637859e-08 267640880.0\n",
      "1.645322e-08 271742660.0\n",
      "1.652784e-08 250208340.0\n",
      "1.660247e-08 214317800.0\n",
      "1.667709e-08 164071040.0\n",
      "1.675171e-08 147663940.0\n",
      "1.682634e-08 111773400.0\n",
      "1.690096e-08 100493510.0\n",
      "1.697558e-08  76908300.0\n",
      "1.705021e-08  72806524.0\n",
      "1.712483e-08  70755636.0\n",
      "1.719946e-08  39992316.0\n",
      "1.727408e-08  50246756.0\n",
      "1.734871e-08  20508880.0\n",
      "1.742333e-08  21534324.0\n",
      "1.749795e-08  10254440.0\n",
      "1.757258e-08   8203552.0\n",
      "1.764720e-08   6152664.0\n",
      "1.772183e-08   3076332.0\n",
      "1.779645e-08   2050888.0\n",
      "1.787107e-08   1025444.0\n",
      "1.794570e-08         0.0\n",
      "1.802032e-08   1025444.0\n",
      "1.809495e-08         0.0\n",
      "1.816957e-08         0.0\n",
      "1.824419e-08   3076332.0\n",
      "1.831882e-08   1025444.0\n",
      "1.839344e-08   1025444.0\n",
      "1.846807e-08   1025444.0\n",
      "1.854269e-08         0.0\n",
      "1.861731e-08   2050888.0\n",
      "1.869194e-08   1025444.0\n",
      "1.876656e-08         0.0\n",
      "1.884119e-08         0.0\n",
      "1.891581e-08   1025444.0\n",
      "1.899043e-08         0.0\n",
      "1.906506e-08   1025444.0\n",
      "1.913968e-08         0.0\n",
      "1.921431e-08         0.0\n",
      "1.928893e-08         0.0\n",
      "1.936356e-08   1025444.0\n"
     ]
    }
   ],
   "source": [
    "# print\n",
    "print(data.to_string(index=False))"
   ]
  },
  {
   "cell_type": "code",
   "execution_count": null,
   "metadata": {},
   "outputs": [],
   "source": []
  },
  {
   "cell_type": "code",
   "execution_count": 4,
   "metadata": {},
   "outputs": [
    {
     "data": {
      "image/png": "[encoded data removed]",
      "text/plain": [
       "<Figure size 640x480 with 1 Axes>"
      ]
     },
     "metadata": {},
     "output_type": "display_data"
    }
   ],
   "source": [
    "# plot\n",
    "plt.plot(x, y, 'b.')\n",
    "plt.xlabel('')\n",
    "plt.ylabel('')\n",
    "plt.title('Data Plot')\n",
    "plt.show()"
   ]
  },
  {
   "cell_type": "code",
   "execution_count": 5,
   "metadata": {},
   "outputs": [
    {
     "name": "stdout",
     "output_type": "stream",
     "text": [
      "['z', 'ρ']\n"
     ]
    }
   ],
   "source": [
    "#get colmn names\n",
    "column_names = data.columns.tolist()\n",
    "print(column_names)"
   ]
  },
  {
   "cell_type": "code",
   "execution_count": 61,
   "metadata": {},
   "outputs": [
    {
     "ename": "TypeError",
     "evalue": "ufunc 'isfinite' not supported for the input types, and the inputs could not be safely coerced to any supported types according to the casting rule ''safe''",
     "output_type": "error",
     "traceback": [
      "\u001b[1;31m---------------------------------------------------------------------------\u001b[0m",
      "\u001b[1;31mTypeError\u001b[0m                                 Traceback (most recent call last)",
      "\u001b[1;32m~\\AppData\\Local\\Temp\\ipykernel_19252\\2009739885.py\u001b[0m in \u001b[0;36m<module>\u001b[1;34m\u001b[0m\n\u001b[0;32m      1\u001b[0m \u001b[1;31m# Normal fitting\u001b[0m\u001b[1;33m\u001b[0m\u001b[1;33m\u001b[0m\u001b[0m\n\u001b[1;32m----> 2\u001b[1;33m \u001b[0mmu\u001b[0m\u001b[1;33m,\u001b[0m \u001b[0mstd\u001b[0m \u001b[1;33m=\u001b[0m \u001b[0mnorm\u001b[0m\u001b[1;33m.\u001b[0m\u001b[0mfit\u001b[0m\u001b[1;33m(\u001b[0m\u001b[1;34m'y'\u001b[0m\u001b[1;33m)\u001b[0m\u001b[1;33m\u001b[0m\u001b[1;33m\u001b[0m\u001b[0m\n\u001b[0m\u001b[0;32m      3\u001b[0m \u001b[1;33m\u001b[0m\u001b[0m\n\u001b[0;32m      4\u001b[0m \u001b[1;31m# Generate the fitted curve\u001b[0m\u001b[1;33m\u001b[0m\u001b[1;33m\u001b[0m\u001b[0m\n\u001b[0;32m      5\u001b[0m \u001b[0mx_fit\u001b[0m \u001b[1;33m=\u001b[0m \u001b[0mnp\u001b[0m\u001b[1;33m.\u001b[0m\u001b[0mlinspace\u001b[0m\u001b[1;33m(\u001b[0m\u001b[0mx\u001b[0m\u001b[1;33m.\u001b[0m\u001b[0mmin\u001b[0m\u001b[1;33m(\u001b[0m\u001b[1;33m)\u001b[0m\u001b[1;33m,\u001b[0m \u001b[0mx\u001b[0m\u001b[1;33m.\u001b[0m\u001b[0mmax\u001b[0m\u001b[1;33m(\u001b[0m\u001b[1;33m)\u001b[0m\u001b[1;33m,\u001b[0m \u001b[1;36m100\u001b[0m\u001b[1;33m)\u001b[0m\u001b[1;33m\u001b[0m\u001b[1;33m\u001b[0m\u001b[0m\n",
      "\u001b[1;32mc:\\Users\\erwan\\anaconda3\\lib\\site-packages\\scipy\\stats\\_continuous_distns.py\u001b[0m in \u001b[0;36mwrapper\u001b[1;34m(self, *args, **kwds)\u001b[0m\n\u001b[0;32m     62\u001b[0m             \u001b[1;32mreturn\u001b[0m \u001b[0msuper\u001b[0m\u001b[1;33m(\u001b[0m\u001b[0mtype\u001b[0m\u001b[1;33m(\u001b[0m\u001b[0mself\u001b[0m\u001b[1;33m)\u001b[0m\u001b[1;33m,\u001b[0m \u001b[0mself\u001b[0m\u001b[1;33m)\u001b[0m\u001b[1;33m.\u001b[0m\u001b[0mfit\u001b[0m\u001b[1;33m(\u001b[0m\u001b[1;33m*\u001b[0m\u001b[0margs\u001b[0m\u001b[1;33m,\u001b[0m \u001b[1;33m**\u001b[0m\u001b[0mkwds\u001b[0m\u001b[1;33m)\u001b[0m\u001b[1;33m\u001b[0m\u001b[1;33m\u001b[0m\u001b[0m\n\u001b[0;32m     63\u001b[0m         \u001b[1;32melse\u001b[0m\u001b[1;33m:\u001b[0m\u001b[1;33m\u001b[0m\u001b[1;33m\u001b[0m\u001b[0m\n\u001b[1;32m---> 64\u001b[1;33m             \u001b[1;32mreturn\u001b[0m \u001b[0mfun\u001b[0m\u001b[1;33m(\u001b[0m\u001b[0mself\u001b[0m\u001b[1;33m,\u001b[0m \u001b[1;33m*\u001b[0m\u001b[0margs\u001b[0m\u001b[1;33m,\u001b[0m \u001b[1;33m**\u001b[0m\u001b[0mkwds\u001b[0m\u001b[1;33m)\u001b[0m\u001b[1;33m\u001b[0m\u001b[1;33m\u001b[0m\u001b[0m\n\u001b[0m\u001b[0;32m     65\u001b[0m     \u001b[1;32mreturn\u001b[0m \u001b[0mwrapper\u001b[0m\u001b[1;33m\u001b[0m\u001b[1;33m\u001b[0m\u001b[0m\n\u001b[0;32m     66\u001b[0m \u001b[1;33m\u001b[0m\u001b[0m\n",
      "\u001b[1;32mc:\\Users\\erwan\\anaconda3\\lib\\site-packages\\scipy\\stats\\_continuous_distns.py\u001b[0m in \u001b[0;36mfit\u001b[1;34m(self, data, **kwds)\u001b[0m\n\u001b[0;32m    380\u001b[0m         \u001b[0mdata\u001b[0m \u001b[1;33m=\u001b[0m \u001b[0mnp\u001b[0m\u001b[1;33m.\u001b[0m\u001b[0masarray\u001b[0m\u001b[1;33m(\u001b[0m\u001b[0mdata\u001b[0m\u001b[1;33m)\u001b[0m\u001b[1;33m\u001b[0m\u001b[1;33m\u001b[0m\u001b[0m\n\u001b[0;32m    381\u001b[0m \u001b[1;33m\u001b[0m\u001b[0m\n\u001b[1;32m--> 382\u001b[1;33m         \u001b[1;32mif\u001b[0m \u001b[1;32mnot\u001b[0m \u001b[0mnp\u001b[0m\u001b[1;33m.\u001b[0m\u001b[0misfinite\u001b[0m\u001b[1;33m(\u001b[0m\u001b[0mdata\u001b[0m\u001b[1;33m)\u001b[0m\u001b[1;33m.\u001b[0m\u001b[0mall\u001b[0m\u001b[1;33m(\u001b[0m\u001b[1;33m)\u001b[0m\u001b[1;33m:\u001b[0m\u001b[1;33m\u001b[0m\u001b[1;33m\u001b[0m\u001b[0m\n\u001b[0m\u001b[0;32m    383\u001b[0m             \u001b[1;32mraise\u001b[0m \u001b[0mValueError\u001b[0m\u001b[1;33m(\u001b[0m\u001b[1;34m\"The data contains non-finite values.\"\u001b[0m\u001b[1;33m)\u001b[0m\u001b[1;33m\u001b[0m\u001b[1;33m\u001b[0m\u001b[0m\n\u001b[0;32m    384\u001b[0m \u001b[1;33m\u001b[0m\u001b[0m\n",
      "\u001b[1;31mTypeError\u001b[0m: ufunc 'isfinite' not supported for the input types, and the inputs could not be safely coerced to any supported types according to the casting rule ''safe''"
     ]
    }
   ],
   "source": [
    "# Normal fitting\n",
    "mu, std = norm.fit(y)\n",
    "\n",
    "# Generate the fitted curve\n",
    "x_fit = np.linspace(x.min(), x.max(), 100)\n",
    "y_fit = norm.pdf(x_fit, mu, std)\n",
    "\n",
    "# Plot the data and fitted curve\n",
    "plt.plot(x, y, 'bo', label='Data')\n",
    "plt.plot(x_fit, y_fit, 'r-', label='Gaussian Fit')\n",
    "plt.xlabel('x')\n",
    "plt.ylabel('y')\n",
    "plt.legend()\n",
    "plt.show()"
   ]
  }
 ],
 "metadata": {
  "kernelspec": {
   "display_name": "base",
   "language": "python",
   "name": "python3"
  },
  "language_info": {
   "codemirror_mode": {
    "name": "ipython",
    "version": 3
   },
   "file_extension": ".py",
   "mimetype": "text/x-python",
   "name": "python",
   "nbconvert_exporter": "python",
   "pygments_lexer": "ipython3",
   "version": "3.9.13"
  },
  "orig_nbformat": 4
 },
 "nbformat": 4,
 "nbformat_minor": 2
}
